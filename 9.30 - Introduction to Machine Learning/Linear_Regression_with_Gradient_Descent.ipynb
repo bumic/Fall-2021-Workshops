{
  "nbformat": 4,
  "nbformat_minor": 0,
  "metadata": {
    "kernelspec": {
      "display_name": "Python 3",
      "language": "python",
      "name": "python3"
    },
    "language_info": {
      "codemirror_mode": {
        "name": "ipython",
        "version": 3
      },
      "file_extension": ".py",
      "mimetype": "text/x-python",
      "name": "python",
      "nbconvert_exporter": "python",
      "pygments_lexer": "ipython3",
      "version": "3.6.8"
    },
    "colab": {
      "name": "Linear Regression with Gradient Descent.ipynb",
      "provenance": []
    }
  },
  "cells": [
    {
      "cell_type": "code",
      "metadata": {
        "id": "D_zkk6TfpmTM"
      },
      "source": [
        "import numpy as np\n",
        "import matplotlib.pyplot as plt"
      ],
      "execution_count": 1,
      "outputs": []
    },
    {
      "cell_type": "markdown",
      "metadata": {
        "id": "cQlmdaJMpmTd"
      },
      "source": [
        "# Simple Gradient Descent With Linear Regression\n",
        "\n",
        "Our goal for this notebook is to learn a model that predicts the value of $y$ based on the value of $x$. We will use an iterative process to guess the original values for $w$ and $b$.\n",
        "\n",
        "Choose some values for $w$ and $b$!\n",
        "\n"
      ]
    },
    {
      "cell_type": "code",
      "metadata": {
        "id": "s6rSo8O9wiuS"
      },
      "source": [
        "# Use these values for w and b. Note, in the real world we would not\n",
        "# have access to these original parameters\n",
        "w = 5\n",
        "b = 3"
      ],
      "execution_count": 2,
      "outputs": []
    },
    {
      "cell_type": "markdown",
      "metadata": {
        "id": "0hgGmf1Xwlzd"
      },
      "source": [
        "First, we generate a dataset that is approximately linear:"
      ]
    },
    {
      "cell_type": "code",
      "metadata": {
        "colab": {
          "base_uri": "https://localhost:8080/",
          "height": 265
        },
        "id": "w4mYhgnZpmT0",
        "outputId": "28ab3cee-87cc-4eb5-b994-9ee3b8b19342"
      },
      "source": [
        "# Create 100 data points\n",
        "n = 100\n",
        "\n",
        "# Make some noisy data\n",
        "x = np.linspace(0, 10, n)\n",
        "epsilon = np.random.normal(size=(n))*3 # normally distributed noise\n",
        "y = (w*x + b) + epsilon\n",
        "\n",
        "plt.scatter(x, y)\n",
        "plt.show()"
      ],
      "execution_count": 3,
      "outputs": [
        {
          "output_type": "display_data",
          "data": {
            "image/png": "[encoded data removed]",
            "text/plain": [
              "<Figure size 432x288 with 1 Axes>"
            ]
          },
          "metadata": {
            "needs_background": "light"
          }
        }
      ]
    },
    {
      "cell_type": "markdown",
      "metadata": {
        "id": "iVu-YEsopmT2"
      },
      "source": [
        "This data is approximately linear (with some added noise, which we would find in the real world). So, we will try to fit a linear function\n",
        "\n",
        "$$\\hat{y} = \\theta_1 x + \\theta_0.$$\n",
        "\n",
        "In this equation, we define $\\hat{y}$ to be our estimation of what we expect the value of $y$ should be given some $x$ input data and using some guess $\\theta$.\n",
        "\n",
        "Our initial guess for the $\\theta$ parameters, and consequently our initial calculation for $\\hat{y}$, will probably be really bad, which should be reflected by our loss function initially having a high value.\n",
        "\n",
        "Our goal is to have our $\\theta$ parameters converge into the original values of $w$ and $b$. We will do so by minimizing our loss function $J$.\n",
        "\n",
        "Our function $J_\\theta$ represents how wrong our guesses $\\hat{y}$ are with respect to $y$. The loss function we will use for $J$ is MSE (mean squared error). This loss function is a very common function for regression based problems due to a probabilistic derivation of which we will not go into during this notebook.\n",
        "\n",
        "\n",
        "$$J_\\theta = \\frac{1}{2n} \\sum_{i=1}^n(y_i - \\hat{y_i})^2 = \\frac{1}{2n} \\sum_{i=1}^n(y_i - (\\theta_1 x_i + \\theta_0))^2$$"
      ]
    },
    {
      "cell_type": "code",
      "metadata": {
        "colab": {
          "base_uri": "https://localhost:8080/",
          "height": 281
        },
        "id": "LGW7RgFMpmUJ",
        "outputId": "00a7c191-8860-4930-e983-7d9fb1f30b92"
      },
      "source": [
        "# our initial guesses for theta_0 and theta_1\n",
        "theta = [-0.01, 0.01]\n",
        "\n",
        "# our model, yhat = theta[1] * x + theta[0]\n",
        "def model(x):\n",
        "    return theta[1] * x + theta[0]\n",
        "\n",
        "# our loss function = 1/(2*n) sum((y-yhat)**2)\n",
        "def mean_squared_error(y, yhat):\n",
        "    return 1/(2*n) * sum((y - yhat)**2)\n",
        "\n",
        "# Now let's plot our current guess\n",
        "yhat = model(x)\n",
        "plt.plot(x, yhat)\n",
        "plt.scatter(x, y)\n",
        "plt.title('Our initial guess for {0}x + {1}'.format(w, b))\n",
        "plt.show()"
      ],
      "execution_count": 4,
      "outputs": [
        {
          "output_type": "display_data",
          "data": {
            "image/png": "[encoded data removed]",
            "text/plain": [
              "<Figure size 432x288 with 1 Axes>"
            ]
          },
          "metadata": {
            "needs_background": "light"
          }
        }
      ]
    },
    {
      "cell_type": "markdown",
      "metadata": {
        "id": "s_f77DPnpmUN"
      },
      "source": [
        "Our initial guess is pretty bad.\n",
        "\n",
        "To converge our $\\theta$ values to the actual values for $w$ and $b$, we will utilize an iterative process called gradient descent. \n",
        "\n",
        "Gradient descent simply utilizes a loss function ($J_\\theta$) and minimizes the loss function with respect to $\\theta$ to make your guesses more accurate.  \n",
        "\n",
        "It finds the direction to move $\\theta_0$ and $\\theta_1$ by using partial derivatives. If $\\frac{\\partial J_\\theta}{\\partial \\theta_0}$ is positive, then we know increasing $\\theta_0$ makes $J_\\theta$ bigger, which meansyour predictions are less accurate. Hence we will be subtracting the partial derivatives in each update step. Also note that as your guesses get closer to the true values of w and b, your derivatives will become flatter and thus smaller. $\\frac{d J_\\theta}{d\\theta}$ therefore, naturally decreases over time causing you to take smaller steps as you slowly converge.\n",
        "\n",
        "We also scale how much the parameters move in each update step using a value known as the learning rate, also commonly referred to as $\\alpha$ (alpha). \n",
        "\n",
        "To actually move our theta closer to the true values, we use an update rule.\n",
        "\n",
        "The general Gradient Descent update rule is as follows:\n",
        "\n",
        "$$\\theta_i = \\theta_i - \\alpha \\frac{\\partial J_\\theta}{\\partial \\theta_i}$$\n",
        "\n",
        "We will use $\\alpha = 1 \\cdot 10^{-3}$. \n",
        "\n",
        "Let's recall that\n",
        "\n",
        "$$J_\\theta = \\frac{1}{2n} \\sum_{i=1}^n(y_i - \\hat{y_i})^2$$\n",
        "and\n",
        "$$\\hat{y_i} = \\theta_1 x_i + \\theta_0$$\n",
        "\n",
        "Therefore our partial derivatives are as follows:\n",
        "$$\\frac{\\partial J_\\theta}{\\partial \\theta_0} = \\frac{1}{n} \\sum_{i=1}^n \\left( (y_i - \\hat{y_i})(-1) \\cdot 1 \\right)$$\n",
        "\n",
        "$$\\frac{\\partial J_\\theta}{\\partial \\theta_1} = \\frac{1}{n} \\sum_{i=1}^n \\left( (y_i - \\hat{y_i})(-1) \\cdot x \\right)$$\n",
        "\n",
        "Finally, because Gradient Descent is an iterative approach we must specify how many times do we repeat our learning update rule until we slowly converge. We typically define the number of update steps as the number of epochs. \n",
        "\n",
        "This method enables us to slowly converge our $\\theta$ parameters to some values which give us good predictions for $\\hat{y}$.\n"
      ]
    },
    {
      "cell_type": "code",
      "metadata": {
        "colab": {
          "base_uri": "https://localhost:8080/",
          "height": 547
        },
        "id": "ms-HX5zvpmUT",
        "outputId": "78cb4f0c-7ee2-4524-fcfe-47a2bd1f08c8"
      },
      "source": [
        "# learning rate/Alpha\n",
        "learning_rate = 1e-3\n",
        "\n",
        "# Let's define the number of training iterations and a metric to record our loss\n",
        "epochs = 100\n",
        "historical_loss = []\n",
        "\n",
        "# Finally let's train\n",
        "for i in range(epochs):\n",
        "    yhat = model(x) # make our prediction\n",
        "    historical_loss.append(mean_squared_error(y,yhat)) # record loss\n",
        "    theta[0] -= learning_rate * 1/n * sum((y - yhat) * (-1) * 1) # update theta[0] (our guess for b)\n",
        "    theta[1] -= learning_rate * 1/n * sum((y - yhat) * (-1) * x) # update theta[1] (our guess for w)\n",
        "    \n",
        "# Plot our regression\n",
        "print('Estimated {0}x + {1}'.format(theta[1], theta[0]))\n",
        "plt.plot(x, yhat)\n",
        "plt.scatter(x, y)\n",
        "plt.show()\n",
        "\n",
        "# Plot our loss function\n",
        "plt.plot(historical_loss)\n",
        "plt.title('Loss after each iteration')\n",
        "plt.show()"
      ],
      "execution_count": 5,
      "outputs": [
        {
          "output_type": "stream",
          "name": "stdout",
          "text": [
            "Estimated 5.104243794017015x + 0.8118278638181261\n"
          ]
        },
        {
          "output_type": "display_data",
          "data": {
            "image/png": "[encoded data removed]",
            "text/plain": [
              "<Figure size 432x288 with 1 Axes>"
            ]
          },
          "metadata": {
            "needs_background": "light"
          }
        },
        {
          "output_type": "display_data",
          "data": {
            "image/png": "[encoded data removed]",
            "text/plain": [
              "<Figure size 432x288 with 1 Axes>"
            ]
          },
          "metadata": {
            "needs_background": "light"
          }
        }
      ]
    },
    {
      "cell_type": "markdown",
      "metadata": {
        "id": "xShDHC7vw_qa"
      },
      "source": [
        "## Appendix: Gradient derivations\n",
        "\n",
        "1. $\\frac{\\partial J_\\theta}{\\partial \\theta_0}$\n",
        "\n",
        "First, use the chain rule:\n",
        "\n",
        "$$\\frac{\\partial J_\\theta}{\\partial \\theta_0} \n",
        "= \\frac{\\partial J_\\theta}{\\partial \\hat{y}} \\cdot \\frac{\\partial \\hat{y}}{\\partial \\theta_0} $$\n",
        "\n",
        "\n",
        "Next, find $\\frac{\\partial J_\\theta}{\\partial \\hat{y_i}}$:\n",
        "\n",
        "$$\\frac{\\partial J_\\theta}{\\partial \\hat{y_i}} = \\frac{1}{n} (y_i - \\hat{y_i})(-1)  $$\n",
        "\n",
        "Find $\\frac{\\partial \\hat{y_i}}{\\partial \\theta_0}$:\n",
        "\n",
        "$$\\frac{\\partial \\hat{y_i}}{\\partial \\theta_0} = 1 $$\n",
        "\n",
        "Finally,\n",
        "\n",
        "$$ \\frac{\\partial J_\\theta}{\\partial \\theta_0} \n",
        "= \\frac{\\partial J_\\theta}{\\partial \\hat{y}} \\cdot \\frac{\\partial \\hat{y}}{\\partial \\theta_0} \n",
        "= \\frac{1}{n} \\sum_{i=1}^n \\left( (y_i - \\hat{y_i})(-1) \\cdot 1 \\right)$$\n",
        "\n",
        "2. $\\frac{\\partial J_\\theta}{\\partial \\theta_1}$\n",
        "\n",
        "Use the chain rule:\n",
        "\n",
        "$$\\frac{\\partial J_\\theta}{\\partial \\theta_1} \n",
        "= \\frac{\\partial J_\\theta}{\\partial \\hat{y}} \\cdot \\frac{\\partial \\hat{y}}{\\partial \\theta_1} $$\n",
        "\n",
        "We have already found $\\frac{\\partial J_\\theta}{\\partial \\hat{y_i}}$.\n",
        "\n",
        "Find $\\frac{\\partial \\hat{y_i}}{\\partial \\theta_1}$:\n",
        "\n",
        "$$\\frac{\\partial \\hat{y_i}}{\\partial \\theta_1} = x $$\n",
        "\n",
        "Finally,\n",
        "\n",
        "$$\\frac{\\partial J_\\theta}{\\partial \\theta_1} \n",
        "= \\frac{\\partial J_\\theta}{\\partial \\hat{y}} \\cdot \\frac{\\partial \\hat{y}}{\\partial \\theta_1} \n",
        "= \\frac{1}{n} \\sum_{i=1}^n \\left( (y_i - \\hat{y_i})(-1) \\cdot x \\right) $$"
      ]
    }
  ]
}